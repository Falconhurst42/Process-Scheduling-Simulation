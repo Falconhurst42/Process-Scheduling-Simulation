{
 "cells": [
  {
   "cell_type": "code",
   "execution_count": null,
   "metadata": {},
   "outputs": [],
   "source": [
    "import pandas as pd\n",
    "from numpy import arange\n",
    "import matplotlib.pyplot as plt\n",
    "import matplotlib.patches as mpatches\n",
    "from matplotlib.collections import PolyCollection\n",
    "import os"
   ]
  },
  {
   "cell_type": "code",
   "execution_count": null,
   "metadata": {},
   "outputs": [],
   "source": [
    "run_dir = 'data/RR_201'"
   ]
  },
  {
   "cell_type": "code",
   "execution_count": null,
   "metadata": {},
   "outputs": [],
   "source": [
    "stat_stats = {\n",
    "    'processes': ['running', 'switching', 'ready', 'blocked', 'exit'],\n",
    "    'cpus': ['processing', 'assigned_idle', 'idle', 'switching_out', 'switching_in']\n",
    "}\n",
    "in_dir = f\"inputs\"\n",
    "out_dir = f\"outputs\"\n",
    "in_type = 'csv'\n",
    "out_type = 'jpg'\n",
    "tick_separation = 1\n",
    "bar_width = 0.9\n",
    "bar_pm = bar_width/2\n",
    "\n",
    "curr_dir = run_dir\n",
    "for run_folder in os.listdir(curr_dir):\n",
    "    if run_folder.find('.') == -1:\n",
    "        curr_dir = f\"{run_dir}/{run_folder}\"\n",
    "        for chart_folder in os.listdir(curr_dir):\n",
    "            curr_dir = f\"{run_dir}/{run_folder}/{chart_folder}\"\n",
    "            for type_folder in os.listdir(curr_dir):\n",
    "                curr_dir = f\"{run_dir}/{run_folder}/{chart_folder}/{type_folder}\"\n",
    "                states = stat_stats[type_folder]\n",
    "                cats = {states[i]:(i+1)*tick_separation for i in range(0, len(states))}\n",
    "                color_map = {states[i]:f\"C{i}\" for i in range(0, len(states))}\n",
    "                try:\n",
    "                    os.mkdir(f\"{curr_dir}/{out_dir}\")\n",
    "                except OSError:\n",
    "                    0\n",
    "                else:\n",
    "                    print(f\"Created output folder {curr_dir}/{out_dir}\")\n",
    "                    for filename in os.listdir(f\"{curr_dir}/{in_dir}\"):\n",
    "                        if filename.endswith(f\".{in_type}\"):\n",
    "                            df = pd.read_csv(f\"{curr_dir}/{in_dir}/{filename}\")\n",
    "                            colors = [color_map[row[0]] for row in df.values]\n",
    "                            fig, ax = plt.subplots()\n",
    "                            # CHART TYPE SPLIT\n",
    "                            if chart_folder == 'timelines':\n",
    "                                df.columns = ['state', 'start']\n",
    "                                df['start'] = df.expanding(1).sum()\n",
    "                                df['end'] = df['start']\n",
    "                                df['start'] = df['start'].shift(1)\n",
    "                                df.at[0, 'start'] = 0\n",
    "\n",
    "                                verts = [[(row[1], cats[row[0]]-bar_pm), (row[1], cats[row[0]]+bar_pm), (row[2], cats[row[0]]+bar_pm), (row[2], cats[row[0]]-bar_pm), (row[1], cats[row[0]]-bar_pm)] for row in df.values]\n",
    "\n",
    "                                bars = PolyCollection(verts, facecolors=colors)\n",
    "                                ax.add_collection(bars)\n",
    "                                ax.autoscale()\n",
    "\n",
    "                                if tick_separation == 0:\n",
    "                                    plt.legend(handles=[mpatches.Patch(color=m[1], label=m[0]) for m in color_map.items()])\n",
    "                                    ax.set_yticks([])\n",
    "                                else:\n",
    "                                    ax.set_yticks(arange(tick_separation, (len(states)+1)*tick_separation, tick_separation))\n",
    "                                    ax.set_yticklabels(states)\n",
    "                            elif chart_folder == 'piecharts':\n",
    "                                df.columns = ['state', 'length']\n",
    "                                ax.pie(df['length'], labels=df['state'], colors=colors, autopct='%1.1f%%')\n",
    "                                ax.axis('equal')\n",
    "                            \n",
    "                            plt.savefig(f\"{curr_dir}/{out_dir}/{filename.rstrip(in_type)}{out_type}\")\n",
    "                            #print(f\"Created plot {curr_dir}/{out_dir}/{filename.rstrip(in_type)}{out_type}\")\n",
    "                            plt.close()"
   ]
  },
  {
   "cell_type": "code",
   "execution_count": null,
   "metadata": {},
   "outputs": [],
   "source": [
    "def list_stretch(l, n):\n",
    "    return [i2 for i in l for i2 in [i]*n]\n",
    "\n",
    "# from https://stackoverflow.com/a/7946825\n",
    "def list_interleave(l):\n",
    "    return [val for tup in zip(*l) for val in tup]\n",
    "    \n",
    "df = pd.read_csv(f\"{run_dir}/summary.csv\")\n",
    "\n",
    "settings = [f\"{i} CPUs\" for i in [1,2,3,6,10]] #df['Settings']\n",
    "\n",
    "colors = list_interleave([[\"C2\"] * len(settings), [\"C1\"] * len(settings)])\n",
    "labels = list_stretch(settings, 2)\n",
    "xs = list_stretch(range(len(settings)), 2)\n",
    "ys = list_interleave([df['Process Length'], df['Wait']])\n",
    "bot = list_interleave([[0] * len(settings), ys[::2]])\n",
    "\n",
    "plt.bar(xs, ys, bottom=bot, color=colors, tick_label=labels)\n",
    "plt.title(\"CPU Count Effect on Wait Times\")\n",
    "plt.legend(handles=[mpatches.Patch(color=m[1], label=m[0]) for m in [[\"Avg Process Length\", \"C2\"], [\"Avg Wait\", \"C1\"], [\"Length + Wait = Turnaround\", \"w\"]]])\n",
    "plt.savefig(f\"{run_dir}/CPU_vs_wait.{out_type}\")\n",
    "\n",
    "df.head()"
   ]
  },
  {
   "cell_type": "code",
   "execution_count": null,
   "metadata": {},
   "outputs": [],
   "source": [
    "run_dir = 'data/RR_201'"
   ]
  },
  {
   "cell_type": "code",
   "execution_count": null,
   "metadata": {},
   "outputs": [],
   "source": [
    "df = pd.read_csv(f\"{run_dir}/summary.csv\")\n",
    "\n",
    "cpus = [1,2,3,6,10]\n",
    "settings = [f\"{i} CPUs\" for i in cpus] #df['Settings']\n",
    "color_map = {settings[i]:f\"C{i+1}\" for i in range(len(settings))}\n",
    "\n",
    "colors = [color_map[s] for s in [settings[1]]*len(settings)]\n",
    "labels = settings\n",
    "xs = range(len(settings))\n",
    "ys = df['Response Adjusted']\n",
    "\n",
    "plt.bar(xs, ys, color=colors, tick_label=labels)\n",
    "plt.title(\"CPU Count Effect on Adjusted Response\")\n",
    "plt.ylabel(\"Adjusted Response\")\n",
    "#plt.legend(handles=[mpatches.Patch(color=m[1], label=m[0]) for m in color_map.items()])\n",
    "plt.savefig(f\"{run_dir}/CPU_vs_response.{out_type}\")"
   ]
  },
  {
   "cell_type": "code",
   "execution_count": null,
   "metadata": {},
   "outputs": [],
   "source": [
    "df = pd.read_csv(f\"{run_dir}/summary.csv\")\n",
    "\n",
    "settings = [\"RR 201\", \"RR 100\", \"RR 50\", \"FCFS\"] #df['Settings']\n",
    "\n",
    "colors = list_interleave([[\"C2\"] * len(settings), [\"C1\"] * len(settings)])\n",
    "labels = list_stretch(settings, 2)\n",
    "xs = list_stretch(range(len(settings)), 2)\n",
    "ys = list_interleave([df['Process Length'], df['Wait']])\n",
    "bot = list_interleave([[0] * len(settings), ys[::2]])\n",
    "\n",
    "plt.bar(xs, ys, bottom=bot, color=colors, tick_label=labels)\n",
    "plt.title(\"Algorithm Effect on Wait Times\")\n",
    "plt.legend(handles=[mpatches.Patch(color=m[1], label=m[0]) for m in [[\"Avg Process Length\", \"C2\"], [\"Avg Wait\", \"C1\"], [\"Length + Wait = Turnaround\", \"w\"]]])\n",
    "plt.savefig(f\"{run_dir}/Algo_vs_wait.{out_type}\")\n",
    "\n",
    "df.head()"
   ]
  },
  {
   "cell_type": "code",
   "execution_count": null,
   "metadata": {},
   "outputs": [],
   "source": [
    "df = pd.read_csv(f\"{run_dir}/summary.csv\")\n",
    "\n",
    "settings = [\"RR 201\", \"RR 100\", \"RR 50\", \"FCFS\"] #df['Settings']\n",
    "color_map = [{settings[i]:f\"C{i+1}\" for i in range(len(settings))}]\n",
    "\n",
    "colors = [\"C2\"] * len(settings)\n",
    "labels = settings\n",
    "xs = range(len(settings))\n",
    "ys = df['CPU Processing%']\n",
    "\n",
    "plt.bar(xs, ys, color=colors, tick_label=labels)\n",
    "plt.title(\"Algo Effect on Throughput per CPU\")\n",
    "plt.ylabel(\"Throughput per CPU\")\n",
    "plt.ylim(top=100)\n",
    "#plt.legend(handles=[mpatches.Patch(color=m[1], label=m[0]) for m in color_map.items()])\n",
    "plt.savefig(f\"{run_dir}/Algo_vs_throughput_cpu.{out_type}\")"
   ]
  },
  {
   "cell_type": "code",
   "execution_count": null,
   "metadata": {},
   "outputs": [],
   "source": [
    "df.head()"
   ]
  }
 ],
 "metadata": {
  "interpreter": {
   "hash": "4fc59bb95888c0280b509ef71b944452e222a9c691ee528f45da36e2bf9ee6ac"
  },
  "kernelspec": {
   "display_name": "Python 3.8.3 32-bit",
   "language": "python",
   "name": "python3"
  },
  "language_info": {
   "codemirror_mode": {
    "name": "ipython",
    "version": 3
   },
   "file_extension": ".py",
   "mimetype": "text/x-python",
   "name": "python",
   "nbconvert_exporter": "python",
   "pygments_lexer": "ipython3",
   "version": "3.8.3"
  },
  "orig_nbformat": 4
 },
 "nbformat": 4,
 "nbformat_minor": 2
}
